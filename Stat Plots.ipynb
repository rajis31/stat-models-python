{
 "cells": [
  {
   "cell_type": "markdown",
   "metadata": {},
   "source": [
    "# Statistical Plots"
   ]
  },
  {
   "cell_type": "markdown",
   "metadata": {},
   "source": [
    "**Purpose:** We will go over various statistical distributions and plots. We'll breakdown this notebook into the two different types of distributions which are `discrete` and `continuous`. Then we will derive some properties about each distribution such as showing its a pmf/pdf, derive the CDF,plot various distribution plots, and derive estimators for distribution parameters.     "
   ]
  },
  {
   "cell_type": "code",
   "execution_count": 5,
   "metadata": {},
   "outputs": [],
   "source": [
    "%matplotlib inline\n",
    "import numpy as np\n",
    "import scipy as sp\n",
    "import matplotlib as mpl\n",
    "import matplotlib.cm as cm\n",
    "import matplotlib.pyplot as plt\n",
    "import pandas as pd\n",
    "import time\n",
    "import sqlite3 as sql\n",
    "import re\n",
    "pd.set_option('display.width', 500)\n",
    "pd.set_option('display.max_columns', 100)\n",
    "pd.set_option('display.notebook_repr_html', True)\n",
    "import seaborn as sns"
   ]
  },
  {
   "cell_type": "markdown",
   "metadata": {},
   "source": [
    "### Bernoulli Distribution"
   ]
  },
  {
   "cell_type": "markdown",
   "metadata": {},
   "source": [
    "The ***Bernoulli Distribution*** is a discrete distribution defined over $\\{0,1\\}$. Let $X$ be a random variable following a Berouilli distribution with parameter $p$ which we denote as $X\\sim\\ \\text{Bernoulli($p$)}$. The pmf or probability mass function is $$\n",
    "  P(X=x) =\n",
    "  \\begin{cases}\n",
    "       1-p & \\text{ if $X=0$} \\\\\n",
    "       p & \\text{ if $X=1$} \\\\\n",
    "  \\end{cases}\n",
    "$$\n",
    "\n",
    "The Bernoulli Distribution is used to represent successes and failures where $0$ is denoted as a failure and $1$ is a success by convention. We will see just soon that an extension of the Bernoulli Distribution is Binomial Distribution. \n",
    "\n",
    "The CDF for this distribution is simple and shown below \n",
    "\n",
    "$$\n",
    "  F_X(x)=P(X\\leq x) =\n",
    "  \\begin{cases}\n",
    "       0 & \\text{if  $ x<0$} \\\\\n",
    "       1-p & \\text{ if $ 0\\leq x < 1$} \\\\\n",
    "       1 & \\text{ if $ x\\geq 1$} \\\\\n",
    "  \\end{cases}\n",
    "$$\n",
    "\n",
    "The Inverse CDF is \n",
    "\n",
    "$$\n",
    "  F^{-1}_X(u)=\n",
    "  \\begin{cases}\n",
    "       0 & \\text{ if $ 0 < u < 1-p$} \\\\\n",
    "       1 & \\text{ if $ 1-p\\leq u< 1$} \\\\\n",
    "  \\end{cases}\n",
    "$$\n",
    "\n",
    "\n",
    "Below we plot the P.M.F and CDF for this distribution and assume $p=0.4$ for this example. <br>\n",
    "**Note:** The P.M.F stands for the probability mass function which are just for the discrete distributions."
   ]
  },
  {
   "cell_type": "code",
   "execution_count": 6,
   "metadata": {},
   "outputs": [
    {
     "data": {
      "text/plain": [
       "(0, 1)"
      ]
     },
     "execution_count": 6,
     "metadata": {},
     "output_type": "execute_result"
    },
    {
     "data": {
      "image/png": "[encoded data removed]",
      "text/plain": [
       "<Figure size 432x288 with 1 Axes>"
      ]
     },
     "metadata": {
      "needs_background": "light"
     },
     "output_type": "display_data"
    }
   ],
   "source": [
    "p=0.4\n",
    "fig, ax = plt.subplots(1, 1)\n",
    "x=np.arange(0,2)\n",
    "plt.plot(x,sp.stats.bernoulli.pmf(x,0.4),'bo',ms=10,lw=5)\n",
    "plt.title(r'$X\\sim Bernouilli(p)$ P.M.F',fontsize=20)\n",
    "ax.vlines(x, 0, sp.stats.bernoulli.pmf(x, p), colors='b', lw=5, alpha=0.5)\n",
    "plt.xlim(-1.5,1.5)\n",
    "plt.ylim(0,1)"
   ]
  },
  {
   "cell_type": "markdown",
   "metadata": {},
   "source": [
    "Below is a piecewise plot for the Bernoulli CDF and some of matplolib functions are described below. \n",
    "\n",
    "`plt.plot(x,y,marker='o',markevery=[0])` - This will plot the  piecewise plot, but format only the 1st marker <br>\n",
    "`plt.plot(x,y,marker='o',markevery=[len(x)-1],color='b', markerfacecolor='none')` - This will plot the piecewise plot but format only the last marker.  <br>\n",
    "`plt.vlines(x=0,ymin=0,ymax=.6,linestyles=\"dotted\",color=\"b\")` - This plots the vertical dotted lines at $x=0$ and $x=1$. <br>"
   ]
  },
  {
   "cell_type": "code",
   "execution_count": 7,
   "metadata": {},
   "outputs": [
    {
     "data": {
      "text/plain": [
       "(0, 1)"
      ]
     },
     "execution_count": 7,
     "metadata": {},
     "output_type": "execute_result"
    },
    {
     "data": {
      "image/png": "[encoded data removed]",
      "text/plain": [
       "<Figure size 432x288 with 1 Axes>"
      ]
     },
     "metadata": {
      "needs_background": "light"
     },
     "output_type": "display_data"
    }
   ],
   "source": [
    "x=np.arange(0,1,step=.01)\n",
    "y=sp.stats.bernoulli.cdf(x,p=.4)\n",
    "plt.plot(x,y,marker='o',markevery=[0])\n",
    "plt.plot(x,y,marker='o',markevery=[len(x)-1],color='b', markerfacecolor='none')\n",
    "plt.vlines(x=0,ymin=0,ymax=.6,linestyles=\"dotted\",color=\"b\")\n",
    "plt.vlines(x=1,ymin=0,ymax=.6,linestyles=\"dotted\",color=\"b\")\n",
    "plt.title(r\"$X\\sim$ $Bernoulli(p=0.4)$ CDF\")\n",
    "plt.xlim(-1,2)\n",
    "plt.ylim(0,1)"
   ]
  },
  {
   "cell_type": "markdown",
   "metadata": {},
   "source": [
    "### Normal Distribution"
   ]
  },
  {
   "cell_type": "markdown",
   "metadata": {},
   "source": [
    "The **Normal Distribution** is a continuous distribution that is defined over $(-\\infty,\\infty)$. This is one of the most well known distributions that has several important applications in statistical theory. This distribution is normally written as $X\\sim N(\\mu,\\sigma)$ where $X$ is a random variable with parameters $\\mu$ and $\\sigma$. $\\mu$ represents the average and $\\sigma$ represents the standard deviation which are usually unknown when dealing with sampling statistics. Below is the Normal pdf:\n",
    "\n",
    "$$f_X(x)=-\\dfrac{1}{\\sigma\\sqrt{2\\pi}}exp^{-\\dfrac{(x-\\mu)^2}{2\\sigma^2}} $$\n",
    "\n",
    "We will not discuss the CDF here as it involves the error function, and typically calcualted using computer approximations. \n",
    "\n",
    "**Note 1** The normal distribution is centered around $\\mu$ and the spread is $\\sigma^2$. <br>\n",
    "**Note 2** PDF stand for probability distribution functions and typically thie term is reserved for continous distributions. <br>\n",
    "**Note 3** A normal distribution with $\\mu=0$ and $\\sigma=1$ is called the **Standard Normal Distribution** \n",
    "\n",
    "Below we will plot the PDF and CDF for the standard normal distribution. "
   ]
  },
  {
   "cell_type": "code",
   "execution_count": 8,
   "metadata": {},
   "outputs": [
    {
     "data": {
      "image/png": "[encoded data removed]",
      "text/plain": [
       "<Figure size 432x288 with 1 Axes>"
      ]
     },
     "metadata": {
      "needs_background": "light"
     },
     "output_type": "display_data"
    }
   ],
   "source": [
    "x=np.arange(-5,5,step=0.1)\n",
    "y=sp.stats.norm.pdf(x,loc=0,scale=1)\n",
    "plt.plot(x,y,linestyle=\"--\",linewidth=2,color=\"black\")\n",
    "plt.vlines(x=0,ymin=0,ymax=max(y),color=\"red\",linestyle=\"dashed\")\n",
    "plt.xlim(-4,4)\n",
    "plt.ylim(0,np.max(y)+.01)\n",
    "plt.title(r\"$X\\sim Normal\\ (\\mu=0,\\sigma=1)$\",fontsize=16)\n",
    "plt.annotate(s=r\"$\\mu=0$\",xy=(0,0.1),fontsize=12,rotation=-90,fontweight=\"bold\")\n",
    "plt.grid(False)"
   ]
  }
 ],
 "metadata": {
  "kernelspec": {
   "display_name": "Python 3",
   "language": "python",
   "name": "python3"
  },
  "language_info": {
   "codemirror_mode": {
    "name": "ipython",
    "version": 3
   },
   "file_extension": ".py",
   "mimetype": "text/x-python",
   "name": "python",
   "nbconvert_exporter": "python",
   "pygments_lexer": "ipython3",
   "version": "3.6.6"
  }
 },
 "nbformat": 4,
 "nbformat_minor": 2
}
